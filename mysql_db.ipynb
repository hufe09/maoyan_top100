{
  "cells": [
    {
      "cell_type": "markdown",
      "source": [
        "# PyMySQL再封装"
      ],
      "metadata": {}
    },
    {
      "cell_type": "code",
      "source": [
        "import pymysql\n",
        "import pandas as pd\n",
        "\n",
        "pd.set_option(\"display.max_columns\", 100)  # 设置显示数据的最大列数，防止出现省略号…，导致数据显示不全\n",
        "pd.set_option(\"expand_frame_repr\", False)  # 当列太多时不自动换行\n",
        "pd.set_option('max_colwidth', 255)  # 单元格最大数据长度\n",
        "\n",
        "\n",
        "class MysqlDB(object):\n",
        "    def __init__(self, db='nba'):\n",
        "        self.__db = db\n",
        "\n",
        "    def __load_config(self):\n",
        "        with open(\"config.json\") as config:\n",
        "            return json.load(config) \n",
        "        \n",
        "        \n",
        "    def __connect(self):\n",
        "        config = self.__load_config()\n",
        "        return pymysql.connect(host=config[\"host\"],\n",
        "                               user=config[\"user\"],\n",
        "                               password=config[\"password\"],\n",
        "                               db=self.__db,\n",
        "                               charset='utf8mb4',\n",
        "                               cursorclass=pymysql.cursors.DictCursor)\n",
        "\n",
        "    def db_query(self, sql, args=None):\n",
        "        \"\"\"\n",
        "        sql: str, sql语句\n",
        "        args（元组，列表或字典） - 与查询一起使用的参数。\n",
        "        输出sql查询结果(tuple)\n",
        "        \"\"\"\n",
        "        conn = self.__connect()\n",
        "        try:\n",
        "            with conn.cursor() as cursor:\n",
        "                rows = cursor.execute(sql, args)  # 受影响的行数\n",
        "                res = cursor.fetchall()\n",
        "                columns = [column[0] for column in cursor.description]\n",
        "                if rows == 0:\n",
        "                    return None\n",
        "                return f'Affected {rows} rows', columns, res\n",
        "        except Exception as e:\n",
        "            return {\"error\": f'Exception error: {e}'}\n",
        "        finally:\n",
        "            conn.close()\n",
        "\n",
        "    def db_query_df(self, sql, args=None):\n",
        "        \"\"\"\n",
        "        sql: sql语句\n",
        "        args（元组，列表或字典） - 与查询一起使用的参数。\n",
        "        查询结果输出为pandas.DataFrame\n",
        "        \"\"\"\n",
        "        res = self.db_query(sql, args)\n",
        "        if res is None:\n",
        "            return None\n",
        "        if type(res) == 'dict':\n",
        "            return res['error']\n",
        "        try:\n",
        "            df = pd.DataFrame(list(res[2]), columns=res[1])\n",
        "            return df\n",
        "        except Exception as e:\n",
        "            return {\"error\": f'Exception error: {e}'}\n",
        "\n",
        "    def db_execute_one(self, sql, args=None):\n",
        "        \"\"\"\n",
        "        执行单条sql语句\n",
        "        args（元组，列表或字典） - 与查询一起使用的参数。\n",
        "        \"\"\"\n",
        "        conn = self.__connect()\n",
        "        try:\n",
        "            with conn.cursor() as cursor:\n",
        "                rows = cursor.execute(sql, args)\n",
        "            conn.commit()\n",
        "            return f'Affected {rows} rows'\n",
        "        except Exception as e:\n",
        "            conn.rollback()\n",
        "            return {\"error\": f\"Exception error: {e}\"}\n",
        "        finally:\n",
        "            conn.close()\n",
        "\n",
        "    def db_execute_many(self, sql, args=None):\n",
        "        \"\"\"\n",
        "        执行多条sql语句\n",
        "        args（元组，列表或字典） - 与查询一起使用的参数。\n",
        "        \"\"\"\n",
        "        conn = self.__connect()\n",
        "        try:\n",
        "            with conn.cursor() as cursor:\n",
        "                rows = cursor.executemany(sql, args)\n",
        "            conn.commit()\n",
        "            return f'Affected {rows} rows'\n",
        "        except Exception as e:\n",
        "            conn.rollback()\n",
        "            return {\"error\": f'Exception error: {e}'}\n",
        "        finally:\n",
        "            conn.close()\n",
        "\n",
        "    def db_insert_one(self, sql, args=None):\n",
        "        \"\"\"\n",
        "        插入单条数据\n",
        "        args（元组，列表或字典） - 与查询一起使用的参数。\n",
        "        \"\"\"\n",
        "        conn = self.__connect()\n",
        "        try:\n",
        "            with conn.cursor() as cursor:\n",
        "                cursor.execute(sql, args)\n",
        "                insert_id = cursor.lastrowid\n",
        "            conn.commit()\n",
        "            return insert_id\n",
        "        except Exception as e:\n",
        "            conn.rollback()\n",
        "            return {\"error\": f'Exception error: {e}'}\n",
        "        finally:\n",
        "            conn.close()\n",
        "\n",
        "    def db_insert_many(self, sql, args=None):\n",
        "        \"\"\"\n",
        "        插入多条数据\n",
        "        \"\"\"\n",
        "        conn = self.__connect()\n",
        "        try:\n",
        "            with conn.cursor() as cursor:\n",
        "                rows = cursor.executemany(sql, args)\n",
        "                insert_id = cursor.lastrowid\n",
        "            conn.commit()\n",
        "            return insert_id, insert_id + len(\n",
        "                args) - 1, f'Affected {rows} rows'\n",
        "        except Exception as e:\n",
        "            conn.rollback()\n",
        "            return {\"error\": f'Exception error: {e}'}\n",
        "        finally:\n",
        "            conn.close()\n",
        "\n",
        "    def db_callproc(self, sql, arg=()):\n",
        "            \"\"\"\n",
        "            执行存储过程\n",
        "            \"\"\"\n",
        "            conn = self.__connect()\n",
        "            try:\n",
        "                with conn.cursor() as cursor:\n",
        "                    return cursor.callproc(sql, arg)\n",
        "            except Exception as e:\n",
        "                conn.rollback()\n",
        "                return {\"error\": f'Exception error: {e}'}\n",
        "            finally:\n",
        "                conn.close()\n",
        "\n",
        "\n",
        "db = MysqlDB()"
      ],
      "outputs": [],
      "execution_count": 1,
      "metadata": {}
    },
    {
      "cell_type": "markdown",
      "source": [
        "# 增"
      ],
      "metadata": {}
    },
    {
      "cell_type": "markdown",
      "source": [
        "## 新增单行"
      ],
      "metadata": {}
    },
    {
      "cell_type": "code",
      "source": [
        "# db = MysqlDB()\n",
        "sql = 'INSERT INTO player (team_id, player_name, height) VALUES (\"1003\",\"科比-布莱恩特\", 1.98);'\n",
        "sql = 'INSERT INTO player (team_id, player_name, height) VALUES (%s,%s,%s);'\n",
        "\n",
        "team_id = '1003'\n",
        "player_name = '科比-布莱恩特'\n",
        "height = 2.00\n",
        "\n",
        "fields_list = [team_id, player_name, height]\n",
        "db.db_insert_one(sql, fields_list)"
      ],
      "outputs": [
        {
          "output_type": "execute_result",
          "execution_count": 2,
          "data": {
            "text/plain": [
              "10186"
            ]
          },
          "metadata": {}
        }
      ],
      "execution_count": 2,
      "metadata": {}
    },
    {
      "cell_type": "markdown",
      "source": [
        "## 新增多行"
      ],
      "metadata": {}
    },
    {
      "cell_type": "code",
      "source": [
        "# db = MysqlDB()\n",
        "sql = 'INSERT INTO player (team_id, player_name, height) VALUES (%s,%s,%s);'\n",
        "data = [(1003, '勒布朗-詹姆斯', 2.02), (1004, '迈克尔-乔丹', 1.98), (1005, '姚明', 2.26)]\n",
        "db.db_insert_many(sql, data)"
      ],
      "outputs": [
        {
          "output_type": "execute_result",
          "execution_count": 3,
          "data": {
            "text/plain": [
              "(10187, 10189, 'Affected 3 rows')"
            ]
          },
          "metadata": {}
        }
      ],
      "execution_count": 3,
      "metadata": {}
    },
    {
      "cell_type": "markdown",
      "source": [
        "**主要用到`executemany`这个方法**\n",
        "\n",
        "`executemany`（**query**，*args* ）\n",
        "\n",
        "针对一个查询运行多个数据\n",
        "\n",
        "| 参数： | 1. **query** - 要在服务器上执行的查询 2. **args** - 序列或映射的序列(元组，列表或字典)。用作参数。 |\n",
        "| :----- | ------------------------------------------------------------ |\n",
        "| 返回： | 受影响的行数（如果有）。                                     |\n",
        "\n",
        "此方法可提高多行INSERT和REPLACE的性能。否则它等同于使用execute()循环遍历args。"
      ],
      "metadata": {}
    },
    {
      "cell_type": "code",
      "source": [
        "sql = 'INSERT INTO player (team_id, player_name, height) VALUES (%s,%s,%s);'\n",
        "data = [(1003, '勒布朗-詹姆斯', 2.02), (1004, '迈克尔-乔丹', 1.98), (1005, '姚明', 2.26)]\n",
        "for i in range(len(data)):\n",
        "    print(sql % (data[i]))\n"
      ],
      "outputs": [
        {
          "output_type": "stream",
          "name": "stdout",
          "text": [
            "INSERT INTO player (team_id, player_name, height) VALUES (1003,勒布朗-詹姆斯,2.02);\n",
            "INSERT INTO player (team_id, player_name, height) VALUES (1004,迈克尔-乔丹,1.98);\n",
            "INSERT INTO player (team_id, player_name, height) VALUES (1005,姚明,2.26);\n"
          ]
        }
      ],
      "execution_count": 4,
      "metadata": {}
    },
    {
      "cell_type": "code",
      "source": [
        "args = ['@max_max_hp', '@min_max_mp', '@avg_max_attack']\n",
        "# proc = args.append('战士')\n",
        "sql = \"select %s, %s, %s;\"\n",
        "print(sql % tuple(args))"
      ],
      "outputs": [
        {
          "output_type": "stream",
          "name": "stdout",
          "text": [
            "select @max_max_hp, @min_max_mp, @avg_max_attack;\n"
          ]
        }
      ],
      "execution_count": 5,
      "metadata": {}
    },
    {
      "cell_type": "markdown",
      "source": [
        "# 删/改\n",
        "删改操作使用`db_execute_one()`或者`db_execute_many()`方法即可"
      ],
      "metadata": {}
    },
    {
      "cell_type": "markdown",
      "source": [
        "## 修改单行"
      ],
      "metadata": {}
    },
    {
      "cell_type": "code",
      "source": [
        "# db = MysqlDB()\n",
        "sql = \"UPDATE player SET height=%s WHERE player_name=%s;\"\n",
        "update = [2.03, \"勒布朗-詹姆斯\"]\n",
        "db.db_execute_one(sql, update)"
      ],
      "outputs": [
        {
          "output_type": "execute_result",
          "execution_count": 6,
          "data": {
            "text/plain": [
              "'Affected 1 rows'"
            ]
          },
          "metadata": {}
        }
      ],
      "execution_count": 6,
      "metadata": {}
    },
    {
      "cell_type": "markdown",
      "source": [
        "## 修改多行"
      ],
      "metadata": {}
    },
    {
      "cell_type": "code",
      "source": [
        "# db = MysqlDB()\n",
        "sql = \"UPDATE player SET height=%s WHERE player_name=%s;\"\n",
        "update = [(2.04, \"勒布朗-詹姆斯\"), (1.99, '迈克尔-乔丹'), (2.27, '姚明')]\n",
        "db.db_execute_many(sql, update)"
      ],
      "outputs": [
        {
          "output_type": "execute_result",
          "execution_count": 7,
          "data": {
            "text/plain": [
              "'Affected 3 rows'"
            ]
          },
          "metadata": {}
        }
      ],
      "execution_count": 7,
      "metadata": {}
    },
    {
      "cell_type": "markdown",
      "source": [
        "## 删除单行"
      ],
      "metadata": {}
    },
    {
      "cell_type": "code",
      "source": [
        "# db = MysqlDB()\n",
        "sql = \"DELETE FROM player WHERE player_name=%s;\"\n",
        "player_name = \"科比-布莱恩特\"\n",
        "db.db_execute_one(sql, player_name)"
      ],
      "outputs": [
        {
          "output_type": "execute_result",
          "execution_count": 8,
          "data": {
            "text/plain": [
              "'Affected 1 rows'"
            ]
          },
          "metadata": {}
        }
      ],
      "execution_count": 8,
      "metadata": {}
    },
    {
      "cell_type": "markdown",
      "source": [
        "## 删除多行"
      ],
      "metadata": {}
    },
    {
      "cell_type": "code",
      "source": [
        "# db = MysqlDB()\n",
        "sql = \"DELETE FROM player WHERE player_name = %s;\"\n",
        "player_names = ['勒布朗-詹姆斯', '迈克尔-乔丹', '姚明']\n",
        "db.db_execute_many(sql, player_names)"
      ],
      "outputs": [
        {
          "output_type": "execute_result",
          "execution_count": 9,
          "data": {
            "text/plain": [
              "'Affected 3 rows'"
            ]
          },
          "metadata": {}
        }
      ],
      "execution_count": 9,
      "metadata": {}
    },
    {
      "cell_type": "markdown",
      "source": [
        "# 查"
      ],
      "metadata": {}
    },
    {
      "cell_type": "markdown",
      "source": [
        "## 返回元组"
      ],
      "metadata": {}
    },
    {
      "cell_type": "code",
      "source": [
        "# db = MysqlDB()\n",
        "sql = \"SELECT * FROM nba.player WHERE height = %s AND team_id = %s LIMIT 5;\"\n",
        "arg = [1.93, '1003']\n",
        "print(db.db_query(sql, arg))"
      ],
      "outputs": [
        {
          "output_type": "stream",
          "name": "stdout",
          "text": [
            "None\n"
          ]
        }
      ],
      "execution_count": 10,
      "metadata": {
        "scrolled": true
      }
    },
    {
      "cell_type": "code",
      "source": [
        "# db = MysqlDB()\n",
        "sql = \"SELECT * FROM nba.player WHERE player_id = %s LIMIT 5;\"\n",
        "arg = ['10001']\n",
        "db.db_query(sql, arg)"
      ],
      "outputs": [
        {
          "output_type": "execute_result",
          "execution_count": 27,
          "data": {
            "text/plain": [
              "('Affected 1 rows',\n",
              " ['player_id', 'team_id', 'player_name', 'height'],\n",
              " [{'player_id': 10001,\n",
              "   'team_id': 1001,\n",
              "   'player_name': '韦恩-艾灵顿',\n",
              "   'height': 1.93}])"
            ]
          },
          "metadata": {}
        }
      ],
      "execution_count": 27,
      "metadata": {
        "scrolled": true
      }
    },
    {
      "cell_type": "markdown",
      "source": [
        "## 返回pandas.DataFrame"
      ],
      "metadata": {}
    },
    {
      "cell_type": "code",
      "source": [
        "# db = MysqlDB()\n",
        "sql = \"SELECT * FROM nba.player WHERE height = %s AND team_id = %s LIMIT 5;\"\n",
        "arg = [1.93, '1001']\n",
        "db.db_query_df(sql, arg)"
      ],
      "outputs": [
        {
          "output_type": "execute_result",
          "execution_count": 23,
          "data": {
            "text/html": [
              "<div>\n",
              "<style scoped>\n",
              "    .dataframe tbody tr th:only-of-type {\n",
              "        vertical-align: middle;\n",
              "    }\n",
              "\n",
              "    .dataframe tbody tr th {\n",
              "        vertical-align: top;\n",
              "    }\n",
              "\n",
              "    .dataframe thead th {\n",
              "        text-align: right;\n",
              "    }\n",
              "</style>\n",
              "<table border=\"1\" class=\"dataframe\">\n",
              "  <thead>\n",
              "    <tr style=\"text-align: right;\">\n",
              "      <th></th>\n",
              "      <th>player_id</th>\n",
              "      <th>team_id</th>\n",
              "      <th>player_name</th>\n",
              "      <th>height</th>\n",
              "    </tr>\n",
              "  </thead>\n",
              "  <tbody>\n",
              "    <tr>\n",
              "      <th>0</th>\n",
              "      <td>10001</td>\n",
              "      <td>1001</td>\n",
              "      <td>韦恩-艾灵顿</td>\n",
              "      <td>1.93</td>\n",
              "    </tr>\n",
              "    <tr>\n",
              "      <th>1</th>\n",
              "      <td>10019</td>\n",
              "      <td>1001</td>\n",
              "      <td>扎克-洛夫顿</td>\n",
              "      <td>1.93</td>\n",
              "    </tr>\n",
              "  </tbody>\n",
              "</table>\n",
              "</div>"
            ],
            "text/plain": [
              "   player_id  team_id player_name  height\n",
              "0      10001     1001      韦恩-艾灵顿    1.93\n",
              "1      10019     1001      扎克-洛夫顿    1.93"
            ]
          },
          "metadata": {}
        }
      ],
      "execution_count": 23,
      "metadata": {}
    },
    {
      "cell_type": "code",
      "source": [
        "# db = MysqlDB()\n",
        "sql = \"SELECT * FROM nba.player WHERE height = %s AND team_id = %s LIMIT 5;\"\n",
        "arg = [1.93, '1003']\n",
        "print(db.db_query_df(sql, arg))"
      ],
      "outputs": [
        {
          "output_type": "stream",
          "name": "stdout",
          "text": [
            "None\n"
          ]
        }
      ],
      "execution_count": 24,
      "metadata": {}
    }
  ],
  "metadata": {
    "kernelspec": {
      "display_name": "Python 3",
      "language": "python",
      "name": "python3"
    },
    "language_info": {
      "codemirror_mode": {
        "name": "ipython",
        "version": 3
      },
      "file_extension": ".py",
      "mimetype": "text/x-python",
      "name": "python",
      "nbconvert_exporter": "python",
      "pygments_lexer": "ipython3",
      "version": "3.7.3"
    },
    "toc": {
      "toc_position": {
        "height": "calc(100% - 180px)",
        "left": "10px",
        "top": "150px",
        "width": "316.797px"
      },
      "skip_h1_title": false,
      "number_sections": true,
      "title_cell": "Table of Contents",
      "toc_window_display": true,
      "base_numbering": 1,
      "toc_section_display": true,
      "title_sidebar": "Contents",
      "toc_cell": false,
      "nav_menu": {},
      "sideBar": true
    },
    "varInspector": {
      "cols": {
        "lenName": 16,
        "lenType": 16,
        "lenVar": 40
      },
      "kernels_config": {
        "python": {
          "delete_cmd_postfix": "",
          "delete_cmd_prefix": "del ",
          "library": "var_list.py",
          "varRefreshCmd": "print(var_dic_list())"
        },
        "r": {
          "delete_cmd_postfix": ") ",
          "delete_cmd_prefix": "rm(",
          "library": "var_list.r",
          "varRefreshCmd": "cat(var_dic_list()) "
        }
      },
      "position": {
        "height": "413px",
        "left": "980px",
        "right": "20px",
        "top": "120px",
        "width": "350px"
      },
      "types_to_exclude": [
        "module",
        "function",
        "builtin_function_or_method",
        "instance",
        "_Feature"
      ],
      "window_display": false
    },
    "nteract": {
      "version": "0.14.4"
    }
  },
  "nbformat": 4,
  "nbformat_minor": 2
}